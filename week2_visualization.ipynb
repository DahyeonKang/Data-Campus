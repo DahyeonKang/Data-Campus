{
 "cells": [
  {
   "cell_type": "code",
   "execution_count": 41,
   "id": "a6478cbe",
   "metadata": {},
   "outputs": [],
   "source": [
    "import warnings\n",
    "warnings.filterwarnings(action='ignore')"
   ]
  },
  {
   "cell_type": "markdown",
   "id": "b023af22",
   "metadata": {},
   "source": [
    "# 1. 데이터 탐색\n",
    "* 데이터 정보\n",
    "▸ 타슈 운영정보 다운로드\n",
    "- https://www.djsiseol.or.kr/portal/sub050201.asp\n",
    "▸ 도시철도여객수송\n",
    "- http://www.kric.go.kr/jsp/industry/rss/citystapassList.jsp?q_org_cd=A010010025&q_fdate=2021\n",
    "▸ 대전광역시 교통 데이터 시스템\n",
    "- http://tportal.daejeon.go.kr/stats/content03.view?search=1\n",
    "▸ GeoPandas\n",
    "- https://geopandas.org/docs.html\n",
    "\n",
    "## 1-1. 타슈 이용현황: 2020.csv\n",
    "### Load Data"
   ]
  },
  {
   "cell_type": "code",
   "execution_count": 3,
   "id": "e1a8067a",
   "metadata": {},
   "outputs": [],
   "source": [
    "# !pip install easygui"
   ]
  },
  {
   "cell_type": "code",
   "execution_count": 40,
   "id": "18e4b16d",
   "metadata": {},
   "outputs": [],
   "source": [
    "from easygui import fileopenbox\n",
    "import pandas as pd\n",
    "import numpy as np"
   ]
  },
  {
   "cell_type": "code",
   "execution_count": 7,
   "id": "0c284176",
   "metadata": {},
   "outputs": [],
   "source": [
    "data_file = fileopenbox()  # ./data/타슈/2020.csv 파일 선택"
   ]
  },
  {
   "cell_type": "code",
   "execution_count": 9,
   "id": "639454a0",
   "metadata": {},
   "outputs": [],
   "source": [
    "# data_file"
   ]
  },
  {
   "cell_type": "code",
   "execution_count": 13,
   "id": "6c127e32",
   "metadata": {},
   "outputs": [
    {
     "data": {
      "text/html": [
       "<div>\n",
       "<style scoped>\n",
       "    .dataframe tbody tr th:only-of-type {\n",
       "        vertical-align: middle;\n",
       "    }\n",
       "\n",
       "    .dataframe tbody tr th {\n",
       "        vertical-align: top;\n",
       "    }\n",
       "\n",
       "    .dataframe thead th {\n",
       "        text-align: right;\n",
       "    }\n",
       "</style>\n",
       "<table border=\"1\" class=\"dataframe\">\n",
       "  <thead>\n",
       "    <tr style=\"text-align: right;\">\n",
       "      <th></th>\n",
       "      <th>대여스테이션</th>\n",
       "      <th>대여일시</th>\n",
       "      <th>반납스테이션</th>\n",
       "      <th>반납일시</th>\n",
       "      <th>이동거리</th>\n",
       "      <th>회원구분</th>\n",
       "    </tr>\n",
       "  </thead>\n",
       "  <tbody>\n",
       "    <tr>\n",
       "      <th>0</th>\n",
       "      <td>174</td>\n",
       "      <td>20200101000100</td>\n",
       "      <td>224.0</td>\n",
       "      <td>20200101001137</td>\n",
       "      <td>640.0</td>\n",
       "      <td>2</td>\n",
       "    </tr>\n",
       "    <tr>\n",
       "      <th>1</th>\n",
       "      <td>174</td>\n",
       "      <td>20200101000109</td>\n",
       "      <td>224.0</td>\n",
       "      <td>20200101001210</td>\n",
       "      <td>640.0</td>\n",
       "      <td>2</td>\n",
       "    </tr>\n",
       "    <tr>\n",
       "      <th>2</th>\n",
       "      <td>117</td>\n",
       "      <td>20200101050735</td>\n",
       "      <td>115.0</td>\n",
       "      <td>20200101051922</td>\n",
       "      <td>1070.0</td>\n",
       "      <td>0</td>\n",
       "    </tr>\n",
       "    <tr>\n",
       "      <th>3</th>\n",
       "      <td>167</td>\n",
       "      <td>20200101051348</td>\n",
       "      <td>94.0</td>\n",
       "      <td>20200101054627</td>\n",
       "      <td>1490.0</td>\n",
       "      <td>2</td>\n",
       "    </tr>\n",
       "  </tbody>\n",
       "</table>\n",
       "</div>"
      ],
      "text/plain": [
       "   대여스테이션            대여일시  반납스테이션            반납일시    이동거리  회원구분\n",
       "0     174  20200101000100   224.0  20200101001137   640.0     2\n",
       "1     174  20200101000109   224.0  20200101001210   640.0     2\n",
       "2     117  20200101050735   115.0  20200101051922  1070.0     0\n",
       "3     167  20200101051348    94.0  20200101054627  1490.0     2"
      ]
     },
     "execution_count": 13,
     "metadata": {},
     "output_type": "execute_result"
    }
   ],
   "source": [
    "## 데이터 불러오기\n",
    "tashu_2020 = pd.read_csv(data_file, encoding='CP949')\n",
    "tashu_2020.head(4)"
   ]
  },
  {
   "cell_type": "code",
   "execution_count": 15,
   "id": "075e87c5",
   "metadata": {},
   "outputs": [
    {
     "data": {
      "text/plain": [
       "대여스테이션      int64\n",
       "대여일시        int64\n",
       "반납스테이션    float64\n",
       "반납일시        int64\n",
       "이동거리      float64\n",
       "회원구분        int64\n",
       "dtype: object"
      ]
     },
     "execution_count": 15,
     "metadata": {},
     "output_type": "execute_result"
    }
   ],
   "source": [
    "## 자료형 확인\n",
    "tashu_2020.dtypes"
   ]
  },
  {
   "cell_type": "code",
   "execution_count": 16,
   "id": "afc62e0b",
   "metadata": {},
   "outputs": [
    {
     "name": "stdout",
     "output_type": "stream",
     "text": [
      "<class 'pandas.core.frame.DataFrame'>\n",
      "RangeIndex: 604446 entries, 0 to 604445\n",
      "Data columns (total 6 columns):\n",
      " #   Column  Non-Null Count   Dtype  \n",
      "---  ------  --------------   -----  \n",
      " 0   대여스테이션  604446 non-null  int64  \n",
      " 1   대여일시    604446 non-null  int64  \n",
      " 2   반납스테이션  595778 non-null  float64\n",
      " 3   반납일시    604446 non-null  int64  \n",
      " 4   이동거리    595857 non-null  float64\n",
      " 5   회원구분    604446 non-null  int64  \n",
      "dtypes: float64(2), int64(4)\n",
      "memory usage: 27.7 MB\n"
     ]
    }
   ],
   "source": [
    "## 데이터 정보 확인\n",
    "tashu_2020.info()"
   ]
  },
  {
   "cell_type": "markdown",
   "id": "9c696287",
   "metadata": {},
   "source": [
    "### Convert Type"
   ]
  },
  {
   "cell_type": "code",
   "execution_count": 22,
   "id": "72ab997d",
   "metadata": {},
   "outputs": [
    {
     "data": {
      "text/html": [
       "<div>\n",
       "<style scoped>\n",
       "    .dataframe tbody tr th:only-of-type {\n",
       "        vertical-align: middle;\n",
       "    }\n",
       "\n",
       "    .dataframe tbody tr th {\n",
       "        vertical-align: top;\n",
       "    }\n",
       "\n",
       "    .dataframe thead th {\n",
       "        text-align: right;\n",
       "    }\n",
       "</style>\n",
       "<table border=\"1\" class=\"dataframe\">\n",
       "  <thead>\n",
       "    <tr style=\"text-align: right;\">\n",
       "      <th></th>\n",
       "      <th>대여스테이션</th>\n",
       "      <th>대여일시</th>\n",
       "      <th>반납스테이션</th>\n",
       "      <th>반납일시</th>\n",
       "      <th>이동거리</th>\n",
       "      <th>회원구분</th>\n",
       "    </tr>\n",
       "  </thead>\n",
       "  <tbody>\n",
       "    <tr>\n",
       "      <th>0</th>\n",
       "      <td>174</td>\n",
       "      <td>20200101000100</td>\n",
       "      <td>224</td>\n",
       "      <td>20200101001137</td>\n",
       "      <td>640</td>\n",
       "      <td>2</td>\n",
       "    </tr>\n",
       "    <tr>\n",
       "      <th>1</th>\n",
       "      <td>174</td>\n",
       "      <td>20200101000109</td>\n",
       "      <td>224</td>\n",
       "      <td>20200101001210</td>\n",
       "      <td>640</td>\n",
       "      <td>2</td>\n",
       "    </tr>\n",
       "    <tr>\n",
       "      <th>2</th>\n",
       "      <td>117</td>\n",
       "      <td>20200101050735</td>\n",
       "      <td>115</td>\n",
       "      <td>20200101051922</td>\n",
       "      <td>1070</td>\n",
       "      <td>0</td>\n",
       "    </tr>\n",
       "  </tbody>\n",
       "</table>\n",
       "</div>"
      ],
      "text/plain": [
       "   대여스테이션            대여일시 반납스테이션            반납일시  이동거리  회원구분\n",
       "0     174  20200101000100    224  20200101001137   640     2\n",
       "1     174  20200101000109    224  20200101001210   640     2\n",
       "2     117  20200101050735    115  20200101051922  1070     0"
      ]
     },
     "execution_count": 22,
     "metadata": {},
     "output_type": "execute_result"
    }
   ],
   "source": [
    "## 실수형 -> 정수형\n",
    "tashu_2020[['반납스테이션', '이동거리']] = tashu_2020[['반납스테이션', '이동거리']].fillna(-1).astype('int64').replace({-1: None})  # 결측치는 None으로 유지\n",
    "tashu_2020.head(3)"
   ]
  },
  {
   "cell_type": "code",
   "execution_count": 23,
   "id": "94c24da2",
   "metadata": {},
   "outputs": [
    {
     "name": "stdout",
     "output_type": "stream",
     "text": [
      "<class 'pandas.core.frame.DataFrame'>\n",
      "RangeIndex: 604446 entries, 0 to 604445\n",
      "Data columns (total 6 columns):\n",
      " #   Column  Non-Null Count   Dtype \n",
      "---  ------  --------------   ----- \n",
      " 0   대여스테이션  604446 non-null  int64 \n",
      " 1   대여일시    604446 non-null  int64 \n",
      " 2   반납스테이션  595778 non-null  object\n",
      " 3   반납일시    604446 non-null  int64 \n",
      " 4   이동거리    595857 non-null  object\n",
      " 5   회원구분    604446 non-null  int64 \n",
      "dtypes: int64(4), object(2)\n",
      "memory usage: 27.7+ MB\n"
     ]
    }
   ],
   "source": [
    "tashu_2020.info()  # 결측치에 대해서 바뀌지 않아 object형으로 표시"
   ]
  },
  {
   "cell_type": "code",
   "execution_count": 25,
   "id": "25f54a61",
   "metadata": {},
   "outputs": [
    {
     "data": {
      "text/plain": [
       "Index(['대여스테이션', '대여일시', '반납스테이션', '반납일시', '이동거리', '회원구분'], dtype='object')"
      ]
     },
     "execution_count": 25,
     "metadata": {},
     "output_type": "execute_result"
    }
   ],
   "source": [
    "## 데이터 열 이름\n",
    "tashu_2020.columns"
   ]
  },
  {
   "cell_type": "code",
   "execution_count": 27,
   "id": "c9ec5bff",
   "metadata": {},
   "outputs": [
    {
     "data": {
      "text/html": [
       "<div>\n",
       "<style scoped>\n",
       "    .dataframe tbody tr th:only-of-type {\n",
       "        vertical-align: middle;\n",
       "    }\n",
       "\n",
       "    .dataframe tbody tr th {\n",
       "        vertical-align: top;\n",
       "    }\n",
       "\n",
       "    .dataframe thead th {\n",
       "        text-align: right;\n",
       "    }\n",
       "</style>\n",
       "<table border=\"1\" class=\"dataframe\">\n",
       "  <thead>\n",
       "    <tr style=\"text-align: right;\">\n",
       "      <th></th>\n",
       "      <th>대여스테이션</th>\n",
       "      <th>대여일시</th>\n",
       "      <th>반납스테이션</th>\n",
       "      <th>반납일시</th>\n",
       "      <th>이동거리</th>\n",
       "      <th>회원구분</th>\n",
       "    </tr>\n",
       "  </thead>\n",
       "  <tbody>\n",
       "    <tr>\n",
       "      <th>0</th>\n",
       "      <td>174</td>\n",
       "      <td>20200101000100</td>\n",
       "      <td>224</td>\n",
       "      <td>20200101001137</td>\n",
       "      <td>640</td>\n",
       "      <td>2</td>\n",
       "    </tr>\n",
       "    <tr>\n",
       "      <th>1</th>\n",
       "      <td>174</td>\n",
       "      <td>20200101000109</td>\n",
       "      <td>224</td>\n",
       "      <td>20200101001210</td>\n",
       "      <td>640</td>\n",
       "      <td>2</td>\n",
       "    </tr>\n",
       "    <tr>\n",
       "      <th>2</th>\n",
       "      <td>117</td>\n",
       "      <td>20200101050735</td>\n",
       "      <td>115</td>\n",
       "      <td>20200101051922</td>\n",
       "      <td>1070</td>\n",
       "      <td>0</td>\n",
       "    </tr>\n",
       "    <tr>\n",
       "      <th>3</th>\n",
       "      <td>167</td>\n",
       "      <td>20200101051348</td>\n",
       "      <td>94</td>\n",
       "      <td>20200101054627</td>\n",
       "      <td>1490</td>\n",
       "      <td>2</td>\n",
       "    </tr>\n",
       "    <tr>\n",
       "      <th>4</th>\n",
       "      <td>203</td>\n",
       "      <td>20200101052002</td>\n",
       "      <td>203</td>\n",
       "      <td>20200101052058</td>\n",
       "      <td>0</td>\n",
       "      <td>1</td>\n",
       "    </tr>\n",
       "  </tbody>\n",
       "</table>\n",
       "</div>"
      ],
      "text/plain": [
       "  대여스테이션            대여일시 반납스테이션            반납일시  이동거리 회원구분\n",
       "0    174  20200101000100    224  20200101001137   640    2\n",
       "1    174  20200101000109    224  20200101001210   640    2\n",
       "2    117  20200101050735    115  20200101051922  1070    0\n",
       "3    167  20200101051348     94  20200101054627  1490    2\n",
       "4    203  20200101052002    203  20200101052058     0    1"
      ]
     },
     "execution_count": 27,
     "metadata": {},
     "output_type": "execute_result"
    }
   ],
   "source": [
    "## 정수형 -> 문자형\n",
    "tashu_2020[['대여스테이션', '대여일시', '반납스테이션', '반납일시', '회원구분']] = tashu_2020[['대여스테이션', '대여일시', '반납스테이션', '반납일시', '회원구분']].astype('string')\n",
    "tashu_2020.head()"
   ]
  },
  {
   "cell_type": "code",
   "execution_count": 28,
   "id": "a2a4dbf4",
   "metadata": {},
   "outputs": [
    {
     "name": "stdout",
     "output_type": "stream",
     "text": [
      "<class 'pandas.core.frame.DataFrame'>\n",
      "RangeIndex: 604446 entries, 0 to 604445\n",
      "Data columns (total 6 columns):\n",
      " #   Column  Non-Null Count   Dtype \n",
      "---  ------  --------------   ----- \n",
      " 0   대여스테이션  604446 non-null  string\n",
      " 1   대여일시    604446 non-null  string\n",
      " 2   반납스테이션  595778 non-null  string\n",
      " 3   반납일시    604446 non-null  string\n",
      " 4   이동거리    595857 non-null  object\n",
      " 5   회원구분    604446 non-null  string\n",
      "dtypes: object(1), string(5)\n",
      "memory usage: 27.7+ MB\n"
     ]
    }
   ],
   "source": [
    "tashu_2020.info()"
   ]
  },
  {
   "cell_type": "code",
   "execution_count": 29,
   "id": "9843eaf7",
   "metadata": {},
   "outputs": [
    {
     "data": {
      "text/html": [
       "<div>\n",
       "<style scoped>\n",
       "    .dataframe tbody tr th:only-of-type {\n",
       "        vertical-align: middle;\n",
       "    }\n",
       "\n",
       "    .dataframe tbody tr th {\n",
       "        vertical-align: top;\n",
       "    }\n",
       "\n",
       "    .dataframe thead th {\n",
       "        text-align: right;\n",
       "    }\n",
       "</style>\n",
       "<table border=\"1\" class=\"dataframe\">\n",
       "  <thead>\n",
       "    <tr style=\"text-align: right;\">\n",
       "      <th></th>\n",
       "      <th>대여스테이션</th>\n",
       "      <th>대여일시</th>\n",
       "      <th>반납스테이션</th>\n",
       "      <th>반납일시</th>\n",
       "      <th>이동거리</th>\n",
       "      <th>회원구분</th>\n",
       "    </tr>\n",
       "  </thead>\n",
       "  <tbody>\n",
       "    <tr>\n",
       "      <th>count</th>\n",
       "      <td>604446</td>\n",
       "      <td>604446</td>\n",
       "      <td>595778</td>\n",
       "      <td>604446</td>\n",
       "      <td>595857</td>\n",
       "      <td>604446</td>\n",
       "    </tr>\n",
       "    <tr>\n",
       "      <th>unique</th>\n",
       "      <td>262</td>\n",
       "      <td>590970</td>\n",
       "      <td>262</td>\n",
       "      <td>590517</td>\n",
       "      <td>564</td>\n",
       "      <td>3</td>\n",
       "    </tr>\n",
       "    <tr>\n",
       "      <th>top</th>\n",
       "      <td>3</td>\n",
       "      <td>20200926180015</td>\n",
       "      <td>3</td>\n",
       "      <td>20200620221134</td>\n",
       "      <td>0</td>\n",
       "      <td>2</td>\n",
       "    </tr>\n",
       "    <tr>\n",
       "      <th>freq</th>\n",
       "      <td>25476</td>\n",
       "      <td>4</td>\n",
       "      <td>27709</td>\n",
       "      <td>4</td>\n",
       "      <td>96448</td>\n",
       "      <td>388611</td>\n",
       "    </tr>\n",
       "  </tbody>\n",
       "</table>\n",
       "</div>"
      ],
      "text/plain": [
       "        대여스테이션            대여일시  반납스테이션            반납일시    이동거리    회원구분\n",
       "count   604446          604446  595778          604446  595857  604446\n",
       "unique     262          590970     262          590517     564       3\n",
       "top          3  20200926180015       3  20200620221134       0       2\n",
       "freq     25476               4   27709               4   96448  388611"
      ]
     },
     "execution_count": 29,
     "metadata": {},
     "output_type": "execute_result"
    }
   ],
   "source": [
    "## 기술 통계량\n",
    "tashu_2020.describe(include='all')  # NaN은 출력되지 않음"
   ]
  },
  {
   "cell_type": "markdown",
   "id": "11765270",
   "metadata": {},
   "source": [
    "## 1-2. 타슈 스테이션 현황"
   ]
  },
  {
   "cell_type": "markdown",
   "id": "f4cf924e",
   "metadata": {},
   "source": [
    "### Load Data"
   ]
  },
  {
   "cell_type": "code",
   "execution_count": 62,
   "id": "fc63741f",
   "metadata": {},
   "outputs": [
    {
     "data": {
      "text/html": [
       "<div>\n",
       "<style scoped>\n",
       "    .dataframe tbody tr th:only-of-type {\n",
       "        vertical-align: middle;\n",
       "    }\n",
       "\n",
       "    .dataframe tbody tr th {\n",
       "        vertical-align: top;\n",
       "    }\n",
       "\n",
       "    .dataframe thead th {\n",
       "        text-align: right;\n",
       "    }\n",
       "</style>\n",
       "<table border=\"1\" class=\"dataframe\">\n",
       "  <thead>\n",
       "    <tr style=\"text-align: right;\">\n",
       "      <th></th>\n",
       "      <th>연번</th>\n",
       "      <th>Station 스테이션/성명</th>\n",
       "      <th>위치</th>\n",
       "      <th>Latitude</th>\n",
       "      <th>Longitude</th>\n",
       "      <th>광역시도코드</th>\n",
       "      <th>광역시도명</th>\n",
       "      <th>시군구코드</th>\n",
       "      <th>시군구명</th>\n",
       "      <th>법정동코드</th>\n",
       "      <th>법정동명</th>\n",
       "      <th>행정동코드</th>\n",
       "      <th>행정동명</th>\n",
       "      <th>거치대</th>\n",
       "    </tr>\n",
       "  </thead>\n",
       "  <tbody>\n",
       "    <tr>\n",
       "      <th>0</th>\n",
       "      <td>1</td>\n",
       "      <td>무역전시관입구(택시승강장)</td>\n",
       "      <td>대전광역시 유성구 도룡동 3-8</td>\n",
       "      <td>36.374708</td>\n",
       "      <td>127.389027</td>\n",
       "      <td>30</td>\n",
       "      <td>대전광역시</td>\n",
       "      <td>30200</td>\n",
       "      <td>유성구</td>\n",
       "      <td>3020012700</td>\n",
       "      <td>도룡동</td>\n",
       "      <td>3020055000</td>\n",
       "      <td>신성동</td>\n",
       "      <td>14</td>\n",
       "    </tr>\n",
       "  </tbody>\n",
       "</table>\n",
       "</div>"
      ],
      "text/plain": [
       "   연번 Station 스테이션/성명                 위치   Latitude   Longitude  광역시도코드  \\\n",
       "0   1  무역전시관입구(택시승강장)  대전광역시 유성구 도룡동 3-8  36.374708  127.389027      30   \n",
       "\n",
       "   광역시도명  시군구코드 시군구명       법정동코드 법정동명       행정동코드 행정동명  거치대  \n",
       "0  대전광역시  30200  유성구  3020012700  도룡동  3020055000  신성동   14  "
      ]
     },
     "execution_count": 62,
     "metadata": {},
     "output_type": "execute_result"
    }
   ],
   "source": [
    "data_file = './data/타슈/대전광역시_공영자전거(타슈) 위치(위경도) 현황_20200801.csv'\n",
    "tashu_station = pd.read_csv(data_file, encoding='CP949')\n",
    "tashu_station.head(1)"
   ]
  },
  {
   "cell_type": "code",
   "execution_count": 63,
   "id": "bcb4ca5d",
   "metadata": {},
   "outputs": [
    {
     "name": "stdout",
     "output_type": "stream",
     "text": [
      "<class 'pandas.core.frame.DataFrame'>\n",
      "RangeIndex: 262 entries, 0 to 261\n",
      "Data columns (total 14 columns):\n",
      " #   Column           Non-Null Count  Dtype  \n",
      "---  ------           --------------  -----  \n",
      " 0   연번               262 non-null    int64  \n",
      " 1   Station 스테이션/성명  262 non-null    object \n",
      " 2   위치               262 non-null    object \n",
      " 3   Latitude         262 non-null    float64\n",
      " 4   Longitude        262 non-null    float64\n",
      " 5   광역시도코드           262 non-null    int64  \n",
      " 6   광역시도명            262 non-null    object \n",
      " 7   시군구코드            262 non-null    int64  \n",
      " 8   시군구명             262 non-null    object \n",
      " 9   법정동코드            262 non-null    int64  \n",
      " 10  법정동명             262 non-null    object \n",
      " 11  행정동코드            262 non-null    int64  \n",
      " 12  행정동명             262 non-null    object \n",
      " 13  거치대              262 non-null    int64  \n",
      "dtypes: float64(2), int64(6), object(6)\n",
      "memory usage: 28.8+ KB\n"
     ]
    }
   ],
   "source": [
    "tashu_station.info()"
   ]
  },
  {
   "cell_type": "markdown",
   "id": "f5cbb276",
   "metadata": {},
   "source": [
    "### Convert Type"
   ]
  },
  {
   "cell_type": "code",
   "execution_count": 66,
   "id": "85d21701",
   "metadata": {},
   "outputs": [
    {
     "name": "stdout",
     "output_type": "stream",
     "text": [
      "<class 'pandas.core.frame.DataFrame'>\n",
      "RangeIndex: 262 entries, 0 to 261\n",
      "Data columns (total 14 columns):\n",
      " #   Column           Non-Null Count  Dtype  \n",
      "---  ------           --------------  -----  \n",
      " 0   연번               262 non-null    string \n",
      " 1   Station 스테이션/성명  262 non-null    object \n",
      " 2   위치               262 non-null    object \n",
      " 3   Latitude         262 non-null    float64\n",
      " 4   Longitude        262 non-null    float64\n",
      " 5   광역시도코드           262 non-null    int64  \n",
      " 6   광역시도명            262 non-null    object \n",
      " 7   시군구코드            262 non-null    int64  \n",
      " 8   시군구명             262 non-null    object \n",
      " 9   법정동코드            262 non-null    int64  \n",
      " 10  법정동명             262 non-null    object \n",
      " 11  행정동코드            262 non-null    int64  \n",
      " 12  행정동명             262 non-null    object \n",
      " 13  거치대              262 non-null    int64  \n",
      "dtypes: float64(2), int64(5), object(6), string(1)\n",
      "memory usage: 28.8+ KB\n"
     ]
    }
   ],
   "source": [
    "## 정수형 -> 문자형\n",
    "tashu_station['연번'] = tashu_station['연번'].astype('string')\n",
    "tashu_station.info()"
   ]
  },
  {
   "cell_type": "code",
   "execution_count": 67,
   "id": "2fd1bb7d",
   "metadata": {},
   "outputs": [
    {
     "data": {
      "text/html": [
       "<div>\n",
       "<style scoped>\n",
       "    .dataframe tbody tr th:only-of-type {\n",
       "        vertical-align: middle;\n",
       "    }\n",
       "\n",
       "    .dataframe tbody tr th {\n",
       "        vertical-align: top;\n",
       "    }\n",
       "\n",
       "    .dataframe thead th {\n",
       "        text-align: right;\n",
       "    }\n",
       "</style>\n",
       "<table border=\"1\" class=\"dataframe\">\n",
       "  <thead>\n",
       "    <tr style=\"text-align: right;\">\n",
       "      <th></th>\n",
       "      <th>연번</th>\n",
       "      <th>Station 스테이션/성명</th>\n",
       "      <th>위치</th>\n",
       "      <th>광역시도명</th>\n",
       "      <th>시군구명</th>\n",
       "      <th>법정동명</th>\n",
       "      <th>행정동명</th>\n",
       "    </tr>\n",
       "  </thead>\n",
       "  <tbody>\n",
       "    <tr>\n",
       "      <th>count</th>\n",
       "      <td>262</td>\n",
       "      <td>262</td>\n",
       "      <td>262</td>\n",
       "      <td>262</td>\n",
       "      <td>262</td>\n",
       "      <td>262</td>\n",
       "      <td>262</td>\n",
       "    </tr>\n",
       "    <tr>\n",
       "      <th>unique</th>\n",
       "      <td>262</td>\n",
       "      <td>262</td>\n",
       "      <td>258</td>\n",
       "      <td>1</td>\n",
       "      <td>5</td>\n",
       "      <td>87</td>\n",
       "      <td>70</td>\n",
       "    </tr>\n",
       "    <tr>\n",
       "      <th>top</th>\n",
       "      <td>121</td>\n",
       "      <td>삼정삼거리</td>\n",
       "      <td>대전광역시 유성구 구성동 23</td>\n",
       "      <td>대전광역시</td>\n",
       "      <td>유성구</td>\n",
       "      <td>둔산동</td>\n",
       "      <td>온천2동</td>\n",
       "    </tr>\n",
       "    <tr>\n",
       "      <th>freq</th>\n",
       "      <td>1</td>\n",
       "      <td>1</td>\n",
       "      <td>4</td>\n",
       "      <td>262</td>\n",
       "      <td>76</td>\n",
       "      <td>20</td>\n",
       "      <td>14</td>\n",
       "    </tr>\n",
       "  </tbody>\n",
       "</table>\n",
       "</div>"
      ],
      "text/plain": [
       "         연번 Station 스테이션/성명                위치  광역시도명 시군구명 법정동명  행정동명\n",
       "count   262             262               262    262  262  262   262\n",
       "unique  262             262               258      1    5   87    70\n",
       "top     121           삼정삼거리  대전광역시 유성구 구성동 23  대전광역시  유성구  둔산동  온천2동\n",
       "freq      1               1                 4    262   76   20    14"
      ]
     },
     "execution_count": 67,
     "metadata": {},
     "output_type": "execute_result"
    }
   ],
   "source": [
    "## 기술 통계량\n",
    "tashu_station.describe(exclude=[np.number])  # 수치형 제외"
   ]
  },
  {
   "cell_type": "markdown",
   "id": "249e6049",
   "metadata": {},
   "source": [
    "## 1-3. 자료 합치기\n",
    "* 타슈 이용 현황: 2020.csv\n",
    "* 타슈 스테이션 현황: 대전광역시_공영자전거(타슈) 위치(위경도) 현황_20200801.csv\n",
    "\n",
    "    => 대여/반납스테이션 이름 추가"
   ]
  },
  {
   "cell_type": "code",
   "execution_count": 97,
   "id": "4601c2ef",
   "metadata": {},
   "outputs": [],
   "source": [
    "df_right = tashu_station[['연번', 'Station 스테이션/성명']]\n",
    "df_right.columns = ['대여스테이션', '대여스테이션_이름']\n",
    "tashu_2020_station = tashu_2020.merge(df_right, left_on='대여스테이션', right_on='대여스테이션')"
   ]
  },
  {
   "cell_type": "code",
   "execution_count": 98,
   "id": "e2a112ce",
   "metadata": {},
   "outputs": [],
   "source": [
    "df_right = tashu_station[['연번', 'Station 스테이션/성명']]\n",
    "df_right.columns = ['반납스테이션', '반납스테이션_이름']\n",
    "tashu_2020_station = tashu_2020_station.merge(df_right, left_on='반납스테이션', right_on='반납스테이션', how='left')"
   ]
  },
  {
   "cell_type": "code",
   "execution_count": 99,
   "id": "b18bae04",
   "metadata": {},
   "outputs": [
    {
     "data": {
      "text/html": [
       "<div>\n",
       "<style scoped>\n",
       "    .dataframe tbody tr th:only-of-type {\n",
       "        vertical-align: middle;\n",
       "    }\n",
       "\n",
       "    .dataframe tbody tr th {\n",
       "        vertical-align: top;\n",
       "    }\n",
       "\n",
       "    .dataframe thead th {\n",
       "        text-align: right;\n",
       "    }\n",
       "</style>\n",
       "<table border=\"1\" class=\"dataframe\">\n",
       "  <thead>\n",
       "    <tr style=\"text-align: right;\">\n",
       "      <th></th>\n",
       "      <th>대여스테이션</th>\n",
       "      <th>대여일시</th>\n",
       "      <th>반납스테이션</th>\n",
       "      <th>반납일시</th>\n",
       "      <th>이동거리</th>\n",
       "      <th>회원구분</th>\n",
       "      <th>대여스테이션_이름</th>\n",
       "      <th>반납스테이션_이름</th>\n",
       "    </tr>\n",
       "  </thead>\n",
       "  <tbody>\n",
       "    <tr>\n",
       "      <th>0</th>\n",
       "      <td>174</td>\n",
       "      <td>20200101000100</td>\n",
       "      <td>224</td>\n",
       "      <td>20200101001137</td>\n",
       "      <td>640</td>\n",
       "      <td>2</td>\n",
       "      <td>가수원네거리(전통시장 입구)</td>\n",
       "      <td>정림삼거리</td>\n",
       "    </tr>\n",
       "    <tr>\n",
       "      <th>1</th>\n",
       "      <td>174</td>\n",
       "      <td>20200101000109</td>\n",
       "      <td>224</td>\n",
       "      <td>20200101001210</td>\n",
       "      <td>640</td>\n",
       "      <td>2</td>\n",
       "      <td>가수원네거리(전통시장 입구)</td>\n",
       "      <td>정림삼거리</td>\n",
       "    </tr>\n",
       "    <tr>\n",
       "      <th>2</th>\n",
       "      <td>174</td>\n",
       "      <td>20200101233236</td>\n",
       "      <td>175</td>\n",
       "      <td>20200101234225</td>\n",
       "      <td>800</td>\n",
       "      <td>2</td>\n",
       "      <td>가수원네거리(전통시장 입구)</td>\n",
       "      <td>건양대네거리</td>\n",
       "    </tr>\n",
       "  </tbody>\n",
       "</table>\n",
       "</div>"
      ],
      "text/plain": [
       "  대여스테이션            대여일시 반납스테이션            반납일시 이동거리 회원구분        대여스테이션_이름  \\\n",
       "0    174  20200101000100    224  20200101001137  640    2  가수원네거리(전통시장 입구)   \n",
       "1    174  20200101000109    224  20200101001210  640    2  가수원네거리(전통시장 입구)   \n",
       "2    174  20200101233236    175  20200101234225  800    2  가수원네거리(전통시장 입구)   \n",
       "\n",
       "  반납스테이션_이름  \n",
       "0     정림삼거리  \n",
       "1     정림삼거리  \n",
       "2    건양대네거리  "
      ]
     },
     "execution_count": 99,
     "metadata": {},
     "output_type": "execute_result"
    }
   ],
   "source": [
    "tashu_2020_station.head(3)"
   ]
  },
  {
   "cell_type": "code",
   "execution_count": 100,
   "id": "91a2c8a9",
   "metadata": {},
   "outputs": [
    {
     "name": "stdout",
     "output_type": "stream",
     "text": [
      "<class 'pandas.core.frame.DataFrame'>\n",
      "Int64Index: 604446 entries, 0 to 604445\n",
      "Data columns (total 8 columns):\n",
      " #   Column     Non-Null Count   Dtype \n",
      "---  ------     --------------   ----- \n",
      " 0   대여스테이션     604446 non-null  string\n",
      " 1   대여일시       604446 non-null  string\n",
      " 2   반납스테이션     595778 non-null  string\n",
      " 3   반납일시       604446 non-null  string\n",
      " 4   이동거리       595857 non-null  object\n",
      " 5   회원구분       604446 non-null  string\n",
      " 6   대여스테이션_이름  604446 non-null  object\n",
      " 7   반납스테이션_이름  595778 non-null  object\n",
      "dtypes: object(3), string(5)\n",
      "memory usage: 41.5+ MB\n"
     ]
    }
   ],
   "source": [
    "tashu_2020_station.info()"
   ]
  },
  {
   "cell_type": "code",
   "execution_count": 101,
   "id": "0fb6c0c8",
   "metadata": {},
   "outputs": [
    {
     "data": {
      "text/html": [
       "<div>\n",
       "<style scoped>\n",
       "    .dataframe tbody tr th:only-of-type {\n",
       "        vertical-align: middle;\n",
       "    }\n",
       "\n",
       "    .dataframe tbody tr th {\n",
       "        vertical-align: top;\n",
       "    }\n",
       "\n",
       "    .dataframe thead th {\n",
       "        text-align: right;\n",
       "    }\n",
       "</style>\n",
       "<table border=\"1\" class=\"dataframe\">\n",
       "  <thead>\n",
       "    <tr style=\"text-align: right;\">\n",
       "      <th></th>\n",
       "      <th>대여스테이션</th>\n",
       "      <th>대여일시</th>\n",
       "      <th>반납스테이션</th>\n",
       "      <th>반납일시</th>\n",
       "      <th>이동거리</th>\n",
       "      <th>회원구분</th>\n",
       "      <th>대여스테이션_이름</th>\n",
       "      <th>반납스테이션_이름</th>\n",
       "    </tr>\n",
       "  </thead>\n",
       "  <tbody>\n",
       "    <tr>\n",
       "      <th>0</th>\n",
       "      <td>174</td>\n",
       "      <td>20200101000100</td>\n",
       "      <td>224</td>\n",
       "      <td>20200101001137</td>\n",
       "      <td>640</td>\n",
       "      <td>2</td>\n",
       "      <td>가수원네거리(전통시장 입구)</td>\n",
       "      <td>정림삼거리</td>\n",
       "    </tr>\n",
       "    <tr>\n",
       "      <th>1</th>\n",
       "      <td>174</td>\n",
       "      <td>20200101000109</td>\n",
       "      <td>224</td>\n",
       "      <td>20200101001210</td>\n",
       "      <td>640</td>\n",
       "      <td>2</td>\n",
       "      <td>가수원네거리(전통시장 입구)</td>\n",
       "      <td>정림삼거리</td>\n",
       "    </tr>\n",
       "    <tr>\n",
       "      <th>3455</th>\n",
       "      <td>117</td>\n",
       "      <td>20200101050735</td>\n",
       "      <td>115</td>\n",
       "      <td>20200101051922</td>\n",
       "      <td>1070</td>\n",
       "      <td>0</td>\n",
       "      <td>동부네거리</td>\n",
       "      <td>한전 대전세종충남지역본부(건너편)</td>\n",
       "    </tr>\n",
       "    <tr>\n",
       "      <th>5304</th>\n",
       "      <td>167</td>\n",
       "      <td>20200101051348</td>\n",
       "      <td>94</td>\n",
       "      <td>20200101054627</td>\n",
       "      <td>1490</td>\n",
       "      <td>2</td>\n",
       "      <td>원동네거리</td>\n",
       "      <td>미리내아파트</td>\n",
       "    </tr>\n",
       "    <tr>\n",
       "      <th>6962</th>\n",
       "      <td>203</td>\n",
       "      <td>20200101052002</td>\n",
       "      <td>203</td>\n",
       "      <td>20200101052058</td>\n",
       "      <td>0</td>\n",
       "      <td>1</td>\n",
       "      <td>죽동 금성백조</td>\n",
       "      <td>죽동 금성백조</td>\n",
       "    </tr>\n",
       "    <tr>\n",
       "      <th>...</th>\n",
       "      <td>...</td>\n",
       "      <td>...</td>\n",
       "      <td>...</td>\n",
       "      <td>...</td>\n",
       "      <td>...</td>\n",
       "      <td>...</td>\n",
       "      <td>...</td>\n",
       "      <td>...</td>\n",
       "    </tr>\n",
       "    <tr>\n",
       "      <th>473879</th>\n",
       "      <td>87</td>\n",
       "      <td>20201231233850</td>\n",
       "      <td>118</td>\n",
       "      <td>20210101002139</td>\n",
       "      <td>0</td>\n",
       "      <td>2</td>\n",
       "      <td>쌍용예가아파트</td>\n",
       "      <td>복합터미널</td>\n",
       "    </tr>\n",
       "    <tr>\n",
       "      <th>406942</th>\n",
       "      <td>182</td>\n",
       "      <td>20201231233856</td>\n",
       "      <td>182</td>\n",
       "      <td>20201231233937</td>\n",
       "      <td>0</td>\n",
       "      <td>2</td>\n",
       "      <td>한밭대 입구</td>\n",
       "      <td>한밭대 입구</td>\n",
       "    </tr>\n",
       "    <tr>\n",
       "      <th>484709</th>\n",
       "      <td>42</td>\n",
       "      <td>20201231234559</td>\n",
       "      <td>83</td>\n",
       "      <td>20210101001215</td>\n",
       "      <td>2470</td>\n",
       "      <td>0</td>\n",
       "      <td>갈마네거리</td>\n",
       "      <td>유평초등학교</td>\n",
       "    </tr>\n",
       "    <tr>\n",
       "      <th>463885</th>\n",
       "      <td>115</td>\n",
       "      <td>20201231235132</td>\n",
       "      <td>196</td>\n",
       "      <td>20210101001502</td>\n",
       "      <td>1730</td>\n",
       "      <td>0</td>\n",
       "      <td>한전 대전세종충남지역본부(건너편)</td>\n",
       "      <td>대덕문화원</td>\n",
       "    </tr>\n",
       "    <tr>\n",
       "      <th>142794</th>\n",
       "      <td>60</td>\n",
       "      <td>20201231235603</td>\n",
       "      <td>108</td>\n",
       "      <td>20210101001237</td>\n",
       "      <td>1590</td>\n",
       "      <td>2</td>\n",
       "      <td>유성온천역 3번출구</td>\n",
       "      <td>목원대학교 입구</td>\n",
       "    </tr>\n",
       "  </tbody>\n",
       "</table>\n",
       "<p>604446 rows × 8 columns</p>\n",
       "</div>"
      ],
      "text/plain": [
       "       대여스테이션            대여일시 반납스테이션            반납일시  이동거리 회원구분  \\\n",
       "0         174  20200101000100    224  20200101001137   640    2   \n",
       "1         174  20200101000109    224  20200101001210   640    2   \n",
       "3455      117  20200101050735    115  20200101051922  1070    0   \n",
       "5304      167  20200101051348     94  20200101054627  1490    2   \n",
       "6962      203  20200101052002    203  20200101052058     0    1   \n",
       "...       ...             ...    ...             ...   ...  ...   \n",
       "473879     87  20201231233850    118  20210101002139     0    2   \n",
       "406942    182  20201231233856    182  20201231233937     0    2   \n",
       "484709     42  20201231234559     83  20210101001215  2470    0   \n",
       "463885    115  20201231235132    196  20210101001502  1730    0   \n",
       "142794     60  20201231235603    108  20210101001237  1590    2   \n",
       "\n",
       "                 대여스테이션_이름           반납스테이션_이름  \n",
       "0          가수원네거리(전통시장 입구)               정림삼거리  \n",
       "1          가수원네거리(전통시장 입구)               정림삼거리  \n",
       "3455                 동부네거리  한전 대전세종충남지역본부(건너편)  \n",
       "5304                 원동네거리              미리내아파트  \n",
       "6962               죽동 금성백조             죽동 금성백조  \n",
       "...                    ...                 ...  \n",
       "473879             쌍용예가아파트               복합터미널  \n",
       "406942              한밭대 입구              한밭대 입구  \n",
       "484709               갈마네거리              유평초등학교  \n",
       "463885  한전 대전세종충남지역본부(건너편)               대덕문화원  \n",
       "142794          유성온천역 3번출구            목원대학교 입구  \n",
       "\n",
       "[604446 rows x 8 columns]"
      ]
     },
     "execution_count": 101,
     "metadata": {},
     "output_type": "execute_result"
    }
   ],
   "source": [
    "tashu_2020_station = tashu_2020_station.sort_values(by=['대여일시', '반납일시'])\n",
    "tashu_2020_station"
   ]
  },
  {
   "cell_type": "markdown",
   "id": "f69b7192",
   "metadata": {},
   "source": [
    "### Create Variables\n",
    "* 회원구분(0 : 정회원, 1 : 일반회원, 2 : 비회원)"
   ]
  },
  {
   "cell_type": "code",
   "execution_count": 102,
   "id": "ca044b49",
   "metadata": {},
   "outputs": [
    {
     "data": {
      "text/plain": [
       "0         2\n",
       "1         2\n",
       "3455      0\n",
       "5304      2\n",
       "6962      1\n",
       "         ..\n",
       "473879    2\n",
       "406942    2\n",
       "484709    0\n",
       "463885    0\n",
       "142794    2\n",
       "Name: 회원구분, Length: 604446, dtype: int32"
      ]
     },
     "execution_count": 102,
     "metadata": {},
     "output_type": "execute_result"
    }
   ],
   "source": [
    "## 회원구분 값\n",
    "idx = tashu_2020_station['회원구분'].astype('int')\n",
    "idx"
   ]
  },
  {
   "cell_type": "code",
   "execution_count": 107,
   "id": "615f4add",
   "metadata": {},
   "outputs": [
    {
     "name": "stdout",
     "output_type": "stream",
     "text": [
      "정회원 일반회원 비회원\n"
     ]
    }
   ],
   "source": [
    "## 회원구분 수준\n",
    "col_levels = {0:'정회원', 1:'일반회원', 2:'비회원'}\n",
    "print(col_levels[0], col_levels[1], col_levels[2])"
   ]
  },
  {
   "cell_type": "code",
   "execution_count": 108,
   "id": "bcd3e5f0",
   "metadata": {},
   "outputs": [
    {
     "data": {
      "text/html": [
       "<div>\n",
       "<style scoped>\n",
       "    .dataframe tbody tr th:only-of-type {\n",
       "        vertical-align: middle;\n",
       "    }\n",
       "\n",
       "    .dataframe tbody tr th {\n",
       "        vertical-align: top;\n",
       "    }\n",
       "\n",
       "    .dataframe thead th {\n",
       "        text-align: right;\n",
       "    }\n",
       "</style>\n",
       "<table border=\"1\" class=\"dataframe\">\n",
       "  <thead>\n",
       "    <tr style=\"text-align: right;\">\n",
       "      <th></th>\n",
       "      <th>대여스테이션</th>\n",
       "      <th>대여일시</th>\n",
       "      <th>반납스테이션</th>\n",
       "      <th>반납일시</th>\n",
       "      <th>이동거리</th>\n",
       "      <th>회원구분</th>\n",
       "      <th>대여스테이션_이름</th>\n",
       "      <th>반납스테이션_이름</th>\n",
       "      <th>회원구분2</th>\n",
       "    </tr>\n",
       "  </thead>\n",
       "  <tbody>\n",
       "    <tr>\n",
       "      <th>0</th>\n",
       "      <td>174</td>\n",
       "      <td>20200101000100</td>\n",
       "      <td>224</td>\n",
       "      <td>20200101001137</td>\n",
       "      <td>640</td>\n",
       "      <td>2</td>\n",
       "      <td>가수원네거리(전통시장 입구)</td>\n",
       "      <td>정림삼거리</td>\n",
       "      <td>비회원</td>\n",
       "    </tr>\n",
       "    <tr>\n",
       "      <th>1</th>\n",
       "      <td>174</td>\n",
       "      <td>20200101000109</td>\n",
       "      <td>224</td>\n",
       "      <td>20200101001210</td>\n",
       "      <td>640</td>\n",
       "      <td>2</td>\n",
       "      <td>가수원네거리(전통시장 입구)</td>\n",
       "      <td>정림삼거리</td>\n",
       "      <td>비회원</td>\n",
       "    </tr>\n",
       "    <tr>\n",
       "      <th>3455</th>\n",
       "      <td>117</td>\n",
       "      <td>20200101050735</td>\n",
       "      <td>115</td>\n",
       "      <td>20200101051922</td>\n",
       "      <td>1070</td>\n",
       "      <td>0</td>\n",
       "      <td>동부네거리</td>\n",
       "      <td>한전 대전세종충남지역본부(건너편)</td>\n",
       "      <td>정회원</td>\n",
       "    </tr>\n",
       "  </tbody>\n",
       "</table>\n",
       "</div>"
      ],
      "text/plain": [
       "     대여스테이션            대여일시 반납스테이션            반납일시  이동거리 회원구분  \\\n",
       "0       174  20200101000100    224  20200101001137   640    2   \n",
       "1       174  20200101000109    224  20200101001210   640    2   \n",
       "3455    117  20200101050735    115  20200101051922  1070    0   \n",
       "\n",
       "            대여스테이션_이름           반납스테이션_이름 회원구분2  \n",
       "0     가수원네거리(전통시장 입구)               정림삼거리   비회원  \n",
       "1     가수원네거리(전통시장 입구)               정림삼거리   비회원  \n",
       "3455            동부네거리  한전 대전세종충남지역본부(건너편)   정회원  "
      ]
     },
     "execution_count": 108,
     "metadata": {},
     "output_type": "execute_result"
    }
   ],
   "source": [
    "## 변수 생성\n",
    "tashu_2020_station['회원구분2'] = [col_levels[i] for i in idx]\n",
    "tashu_2020_station.head(3)"
   ]
  },
  {
   "cell_type": "code",
   "execution_count": 112,
   "id": "e267dbc8",
   "metadata": {},
   "outputs": [
    {
     "name": "stdout",
     "output_type": "stream",
     "text": [
      "2    388611\n",
      "0    119541\n",
      "1     96294\n",
      "Name: 회원구분, dtype: Int64\n",
      "비회원     388611\n",
      "정회원     119541\n",
      "일반회원     96294\n",
      "Name: 회원구분2, dtype: int64\n"
     ]
    }
   ],
   "source": [
    "## 변수 생성이 잘 되었는지 확인\n",
    "print(tashu_2020_station['회원구분'].value_counts())\n",
    "print(tashu_2020_station['회원구분2'].value_counts())"
   ]
  },
  {
   "cell_type": "code",
   "execution_count": 113,
   "id": "151f651a",
   "metadata": {},
   "outputs": [
    {
     "data": {
      "text/html": [
       "<div>\n",
       "<style scoped>\n",
       "    .dataframe tbody tr th:only-of-type {\n",
       "        vertical-align: middle;\n",
       "    }\n",
       "\n",
       "    .dataframe tbody tr th {\n",
       "        vertical-align: top;\n",
       "    }\n",
       "\n",
       "    .dataframe thead th {\n",
       "        text-align: right;\n",
       "    }\n",
       "</style>\n",
       "<table border=\"1\" class=\"dataframe\">\n",
       "  <thead>\n",
       "    <tr style=\"text-align: right;\">\n",
       "      <th></th>\n",
       "      <th>대여스테이션</th>\n",
       "      <th>대여일시</th>\n",
       "      <th>반납스테이션</th>\n",
       "      <th>반납일시</th>\n",
       "      <th>이동거리</th>\n",
       "      <th>회원구분</th>\n",
       "      <th>대여스테이션_이름</th>\n",
       "      <th>반납스테이션_이름</th>\n",
       "      <th>회원구분2</th>\n",
       "    </tr>\n",
       "  </thead>\n",
       "  <tbody>\n",
       "    <tr>\n",
       "      <th>count</th>\n",
       "      <td>604446</td>\n",
       "      <td>604446</td>\n",
       "      <td>595778</td>\n",
       "      <td>604446</td>\n",
       "      <td>595857</td>\n",
       "      <td>604446</td>\n",
       "      <td>604446</td>\n",
       "      <td>595778</td>\n",
       "      <td>604446</td>\n",
       "    </tr>\n",
       "    <tr>\n",
       "      <th>unique</th>\n",
       "      <td>262</td>\n",
       "      <td>590970</td>\n",
       "      <td>262</td>\n",
       "      <td>590517</td>\n",
       "      <td>564</td>\n",
       "      <td>3</td>\n",
       "      <td>262</td>\n",
       "      <td>262</td>\n",
       "      <td>3</td>\n",
       "    </tr>\n",
       "    <tr>\n",
       "      <th>top</th>\n",
       "      <td>3</td>\n",
       "      <td>20200926180015</td>\n",
       "      <td>3</td>\n",
       "      <td>20200620221134</td>\n",
       "      <td>0</td>\n",
       "      <td>2</td>\n",
       "      <td>한밭수목원1</td>\n",
       "      <td>한밭수목원1</td>\n",
       "      <td>비회원</td>\n",
       "    </tr>\n",
       "    <tr>\n",
       "      <th>freq</th>\n",
       "      <td>25476</td>\n",
       "      <td>4</td>\n",
       "      <td>27709</td>\n",
       "      <td>4</td>\n",
       "      <td>96448</td>\n",
       "      <td>388611</td>\n",
       "      <td>25476</td>\n",
       "      <td>27709</td>\n",
       "      <td>388611</td>\n",
       "    </tr>\n",
       "  </tbody>\n",
       "</table>\n",
       "</div>"
      ],
      "text/plain": [
       "        대여스테이션            대여일시  반납스테이션            반납일시    이동거리    회원구분  \\\n",
       "count   604446          604446  595778          604446  595857  604446   \n",
       "unique     262          590970     262          590517     564       3   \n",
       "top          3  20200926180015       3  20200620221134       0       2   \n",
       "freq     25476               4   27709               4   96448  388611   \n",
       "\n",
       "       대여스테이션_이름 반납스테이션_이름   회원구분2  \n",
       "count     604446    595778  604446  \n",
       "unique       262       262       3  \n",
       "top       한밭수목원1    한밭수목원1     비회원  \n",
       "freq       25476     27709  388611  "
      ]
     },
     "execution_count": 113,
     "metadata": {},
     "output_type": "execute_result"
    }
   ],
   "source": [
    "## 기술통계량\n",
    "tashu_2020_station.describe(include='all')"
   ]
  },
  {
   "cell_type": "markdown",
   "id": "72cd9eb0",
   "metadata": {},
   "source": [
    "# 2. 시각화\n",
    "## 2-1. 패키지 소개\n",
    "* matplotlib\n",
    "* seaborn\n",
    "* plotnine"
   ]
  },
  {
   "cell_type": "code",
   "execution_count": 30,
   "id": "01d47697",
   "metadata": {},
   "outputs": [],
   "source": [
    "from matplotlib import pyplot as plt\n",
    "\n",
    "plt.rcParams['font.family'] = 'Gulim'  # 그래프에 한글 표시를 위한 글꼴 설정\n",
    "plt.style.use('ggplot')  # 그래프 스타일"
   ]
  },
  {
   "cell_type": "code",
   "execution_count": 43,
   "id": "ad93e469",
   "metadata": {},
   "outputs": [],
   "source": [
    "import seaborn as sns"
   ]
  },
  {
   "cell_type": "code",
   "execution_count": 42,
   "id": "04c07e87",
   "metadata": {},
   "outputs": [
    {
     "data": {
      "image/png": "[encoded data removed]",
      "text/plain": [
       "<Figure size 640x480 with 3 Axes>"
      ]
     },
     "metadata": {},
     "output_type": "display_data"
    },
    {
     "data": {
      "text/plain": [
       "<ggplot: (128071973404)>"
      ]
     },
     "execution_count": 42,
     "metadata": {},
     "output_type": "execute_result"
    }
   ],
   "source": [
    "# pip install plotnine --user\n",
    "\n",
    "from plotnine import *\n",
    "from plotnine.data import mtcars\n",
    "(\n",
    "    ggplot(mtcars, aes('wt', 'mpg', color='factor(gear)'))\n",
    "    + geom_point()\n",
    "    + stat_smooth(method='lm')\n",
    "    + facet_wrap('~gear')\n",
    ")"
   ]
  },
  {
   "cell_type": "markdown",
   "id": "2519dfa3",
   "metadata": {},
   "source": [
    "## 2-2. 단일 변수 탐색"
   ]
  },
  {
   "cell_type": "code",
   "execution_count": 44,
   "id": "a4b8339a",
   "metadata": {},
   "outputs": [],
   "source": [
    "data_file = './data/타슈/대전광역시_공영자전거(타슈) 위치(위경도) 현황_20200801.csv'\n",
    "tashu_station = pd.read_csv(data_file, encoding='CP949')"
   ]
  },
  {
   "cell_type": "code",
   "execution_count": 45,
   "id": "e8dc4846",
   "metadata": {},
   "outputs": [
    {
     "data": {
      "text/html": [
       "<div>\n",
       "<style scoped>\n",
       "    .dataframe tbody tr th:only-of-type {\n",
       "        vertical-align: middle;\n",
       "    }\n",
       "\n",
       "    .dataframe tbody tr th {\n",
       "        vertical-align: top;\n",
       "    }\n",
       "\n",
       "    .dataframe thead th {\n",
       "        text-align: right;\n",
       "    }\n",
       "</style>\n",
       "<table border=\"1\" class=\"dataframe\">\n",
       "  <thead>\n",
       "    <tr style=\"text-align: right;\">\n",
       "      <th></th>\n",
       "      <th>Freq</th>\n",
       "    </tr>\n",
       "    <tr>\n",
       "      <th>시군구명</th>\n",
       "      <th></th>\n",
       "    </tr>\n",
       "  </thead>\n",
       "  <tbody>\n",
       "    <tr>\n",
       "      <th>대덕구</th>\n",
       "      <td>38</td>\n",
       "    </tr>\n",
       "    <tr>\n",
       "      <th>동구</th>\n",
       "      <td>36</td>\n",
       "    </tr>\n",
       "    <tr>\n",
       "      <th>서구</th>\n",
       "      <td>73</td>\n",
       "    </tr>\n",
       "    <tr>\n",
       "      <th>유성구</th>\n",
       "      <td>76</td>\n",
       "    </tr>\n",
       "    <tr>\n",
       "      <th>중구</th>\n",
       "      <td>39</td>\n",
       "    </tr>\n",
       "  </tbody>\n",
       "</table>\n",
       "</div>"
      ],
      "text/plain": [
       "      Freq\n",
       "시군구명      \n",
       "대덕구     38\n",
       "동구      36\n",
       "서구      73\n",
       "유성구     76\n",
       "중구      39"
      ]
     },
     "execution_count": 45,
     "metadata": {},
     "output_type": "execute_result"
    }
   ],
   "source": [
    "## 빈도표\n",
    "tb = pd.crosstab(tashu_station['시군구명'], 'Freq', colnames=[''])\n",
    "tb"
   ]
  },
  {
   "cell_type": "code",
   "execution_count": 46,
   "id": "374f73e4",
   "metadata": {},
   "outputs": [
    {
     "data": {
      "text/html": [
       "<div>\n",
       "<style scoped>\n",
       "    .dataframe tbody tr th:only-of-type {\n",
       "        vertical-align: middle;\n",
       "    }\n",
       "\n",
       "    .dataframe tbody tr th {\n",
       "        vertical-align: top;\n",
       "    }\n",
       "\n",
       "    .dataframe thead th {\n",
       "        text-align: right;\n",
       "    }\n",
       "</style>\n",
       "<table border=\"1\" class=\"dataframe\">\n",
       "  <thead>\n",
       "    <tr style=\"text-align: right;\">\n",
       "      <th></th>\n",
       "      <th>Freq</th>\n",
       "    </tr>\n",
       "    <tr>\n",
       "      <th>시군구명</th>\n",
       "      <th></th>\n",
       "    </tr>\n",
       "  </thead>\n",
       "  <tbody>\n",
       "    <tr>\n",
       "      <th>유성구</th>\n",
       "      <td>76</td>\n",
       "    </tr>\n",
       "    <tr>\n",
       "      <th>서구</th>\n",
       "      <td>73</td>\n",
       "    </tr>\n",
       "    <tr>\n",
       "      <th>중구</th>\n",
       "      <td>39</td>\n",
       "    </tr>\n",
       "    <tr>\n",
       "      <th>대덕구</th>\n",
       "      <td>38</td>\n",
       "    </tr>\n",
       "    <tr>\n",
       "      <th>동구</th>\n",
       "      <td>36</td>\n",
       "    </tr>\n",
       "  </tbody>\n",
       "</table>\n",
       "</div>"
      ],
      "text/plain": [
       "      Freq\n",
       "시군구명      \n",
       "유성구     76\n",
       "서구      73\n",
       "중구      39\n",
       "대덕구     38\n",
       "동구      36"
      ]
     },
     "execution_count": 46,
     "metadata": {},
     "output_type": "execute_result"
    }
   ],
   "source": [
    "## 빈도표 - 내림차순 정렬\n",
    "tb_sort = tb.sort_values('Freq', ascending=False)\n",
    "tb_sort"
   ]
  },
  {
   "cell_type": "markdown",
   "id": "6be2949a",
   "metadata": {},
   "source": [
    "### 막대 그래프"
   ]
  },
  {
   "cell_type": "code",
   "execution_count": 47,
   "id": "59c8eb0b",
   "metadata": {},
   "outputs": [
    {
     "data": {
      "image/png": "[encoded data removed]",
      "text/plain": [
       "<Figure size 432x288 with 1 Axes>"
      ]
     },
     "metadata": {},
     "output_type": "display_data"
    }
   ],
   "source": [
    "ax = tb.plot.bar(rot=0)"
   ]
  },
  {
   "cell_type": "code",
   "execution_count": 52,
   "id": "161b24a0",
   "metadata": {},
   "outputs": [
    {
     "data": {
      "image/png": "[encoded data removed]",
      "text/plain": [
       "<Figure size 432x288 with 1 Axes>"
      ]
     },
     "metadata": {},
     "output_type": "display_data"
    }
   ],
   "source": [
    "## 막대 그래프 - 수직\n",
    "ax = tb_sort.plot.bar(rot=0, color=\"royalblue\")  # 색상\n",
    "ax.set_title(\"타슈 스테이션 현황\")               # 제목\n",
    "ax.set_xlabel(\"\")                                # x축 이름\n",
    "ax.set_ylabel(\"스테이션 수\")                     # y축 이름\n",
    "ax.legend().remove()                             # 범례 제거\n",
    "ax.set_facecolor('whitesmoke')                        # 배경색\n",
    "ax.grid(True, axis='y', color=\"silver\")         # 눈금선(y축)\n",
    "ax.tick_params(left = False, bottom = False)   # 눈금 제거\n",
    "ax.spines['bottom'].set_color('black')           # x축 표시\n",
    "plt.show()"
   ]
  },
  {
   "cell_type": "code",
   "execution_count": 57,
   "id": "cce08bde",
   "metadata": {},
   "outputs": [
    {
     "data": {
      "image/png": "[encoded data removed]",
      "text/plain": [
       "<Figure size 432x288 with 1 Axes>"
      ]
     },
     "metadata": {},
     "output_type": "display_data"
    },
    {
     "data": {
      "image/png": "[encoded data removed]",
      "text/plain": [
       "<Figure size 432x288 with 1 Axes>"
      ]
     },
     "metadata": {},
     "output_type": "display_data"
    }
   ],
   "source": [
    "## 막대그래프 - 수직, 수평\n",
    "tb_sort_asc = tb.sort_values('Freq', ascending=True)\n",
    "ax = tb_sort_asc.plot.bar()  # 수직\n",
    "ax = tb_sort_asc.plot.barh()  # 수평"
   ]
  },
  {
   "cell_type": "markdown",
   "id": "4eff342b",
   "metadata": {},
   "source": [
    "### 원 그래프"
   ]
  },
  {
   "cell_type": "code",
   "execution_count": 58,
   "id": "0abacaab",
   "metadata": {},
   "outputs": [
    {
     "data": {
      "image/png": "[encoded data removed]",
      "text/plain": [
       "<Figure size 432x432 with 1 Axes>"
      ]
     },
     "metadata": {},
     "output_type": "display_data"
    }
   ],
   "source": [
    "ax = tb_sort_asc.plot.pie(y='Freq', figsize=(6, 6), fontsize=12)"
   ]
  },
  {
   "cell_type": "code",
   "execution_count": 61,
   "id": "3188284c",
   "metadata": {},
   "outputs": [
    {
     "data": {
      "image/png": "[encoded data removed]",
      "text/plain": [
       "<Figure size 432x432 with 1 Axes>"
      ]
     },
     "metadata": {},
     "output_type": "display_data"
    }
   ],
   "source": [
    "ax = tb_sort_asc.plot.pie(y='Freq', figsize=(6, 6), fontsize=12,\n",
    "                         startangle=90, autopct='%.1f%%')\n",
    "ax.legend().remove()\n",
    "ax.set_ylabel(\"\")\n",
    "plt.show()"
   ]
  },
  {
   "cell_type": "code",
   "execution_count": null,
   "id": "db0c37d1",
   "metadata": {},
   "outputs": [],
   "source": []
  }
 ],
 "metadata": {
  "kernelspec": {
   "display_name": "Python 3",
   "language": "python",
   "name": "python3"
  },
  "language_info": {
   "codemirror_mode": {
    "name": "ipython",
    "version": 3
   },
   "file_extension": ".py",
   "mimetype": "text/x-python",
   "name": "python",
   "nbconvert_exporter": "python",
   "pygments_lexer": "ipython3",
   "version": "3.8.8"
  }
 },
 "nbformat": 4,
 "nbformat_minor": 5
}
